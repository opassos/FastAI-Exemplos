{
  "nbformat": 4,
  "nbformat_minor": 0,
  "metadata": {
    "colab": {
      "name": "FastAI Model Splitter.ipynb",
      "provenance": [],
      "authorship_tag": "ABX9TyO+/HxA7Q75BexXfmBx1ZTT",
      "include_colab_link": true
    },
    "kernelspec": {
      "name": "python3",
      "display_name": "Python 3"
    },
    "language_info": {
      "name": "python"
    }
  },
  "cells": [
    {
      "cell_type": "markdown",
      "metadata": {
        "id": "view-in-github",
        "colab_type": "text"
      },
      "source": [
        "<a href=\"https://colab.research.google.com/github/opassos/FastAI-Exemplos/blob/main/FastAI%20Model%20Splitter.ipynb\" target=\"_parent\"><img src=\"https://colab.research.google.com/assets/colab-badge.svg\" alt=\"Open In Colab\"/></a>"
      ]
    },
    {
      "cell_type": "code",
      "metadata": {
        "colab": {
          "base_uri": "https://localhost:8080/"
        },
        "id": "GS33pGpFPKJS",
        "outputId": "8b0da06d-e4e6-461a-9ee9-57c992c9337d"
      },
      "source": [
        "! pip install -Uqqq fastai\n",
        "! pip install -Uqqq timm"
      ],
      "execution_count": null,
      "outputs": [
        {
          "output_type": "stream",
          "name": "stdout",
          "text": [
            "\u001b[?25l\r\u001b[K     |▉                               | 10 kB 22.3 MB/s eta 0:00:01\r\u001b[K     |█▊                              | 20 kB 27.7 MB/s eta 0:00:01\r\u001b[K     |██▋                             | 30 kB 12.4 MB/s eta 0:00:01\r\u001b[K     |███▌                            | 40 kB 9.5 MB/s eta 0:00:01\r\u001b[K     |████▍                           | 51 kB 5.1 MB/s eta 0:00:01\r\u001b[K     |█████▏                          | 61 kB 5.2 MB/s eta 0:00:01\r\u001b[K     |██████                          | 71 kB 5.8 MB/s eta 0:00:01\r\u001b[K     |███████                         | 81 kB 6.5 MB/s eta 0:00:01\r\u001b[K     |███████▉                        | 92 kB 4.7 MB/s eta 0:00:01\r\u001b[K     |████████▊                       | 102 kB 5.1 MB/s eta 0:00:01\r\u001b[K     |█████████▋                      | 112 kB 5.1 MB/s eta 0:00:01\r\u001b[K     |██████████▍                     | 122 kB 5.1 MB/s eta 0:00:01\r\u001b[K     |███████████▎                    | 133 kB 5.1 MB/s eta 0:00:01\r\u001b[K     |████████████▏                   | 143 kB 5.1 MB/s eta 0:00:01\r\u001b[K     |█████████████                   | 153 kB 5.1 MB/s eta 0:00:01\r\u001b[K     |██████████████                  | 163 kB 5.1 MB/s eta 0:00:01\r\u001b[K     |██████████████▊                 | 174 kB 5.1 MB/s eta 0:00:01\r\u001b[K     |███████████████▋                | 184 kB 5.1 MB/s eta 0:00:01\r\u001b[K     |████████████████▌               | 194 kB 5.1 MB/s eta 0:00:01\r\u001b[K     |█████████████████▍              | 204 kB 5.1 MB/s eta 0:00:01\r\u001b[K     |██████████████████▎             | 215 kB 5.1 MB/s eta 0:00:01\r\u001b[K     |███████████████████▏            | 225 kB 5.1 MB/s eta 0:00:01\r\u001b[K     |████████████████████            | 235 kB 5.1 MB/s eta 0:00:01\r\u001b[K     |████████████████████▉           | 245 kB 5.1 MB/s eta 0:00:01\r\u001b[K     |█████████████████████▊          | 256 kB 5.1 MB/s eta 0:00:01\r\u001b[K     |██████████████████████▋         | 266 kB 5.1 MB/s eta 0:00:01\r\u001b[K     |███████████████████████▌        | 276 kB 5.1 MB/s eta 0:00:01\r\u001b[K     |████████████████████████▍       | 286 kB 5.1 MB/s eta 0:00:01\r\u001b[K     |█████████████████████████▏      | 296 kB 5.1 MB/s eta 0:00:01\r\u001b[K     |██████████████████████████      | 307 kB 5.1 MB/s eta 0:00:01\r\u001b[K     |███████████████████████████     | 317 kB 5.1 MB/s eta 0:00:01\r\u001b[K     |███████████████████████████▉    | 327 kB 5.1 MB/s eta 0:00:01\r\u001b[K     |████████████████████████████▊   | 337 kB 5.1 MB/s eta 0:00:01\r\u001b[K     |█████████████████████████████▌  | 348 kB 5.1 MB/s eta 0:00:01\r\u001b[K     |██████████████████████████████▍ | 358 kB 5.1 MB/s eta 0:00:01\r\u001b[K     |███████████████████████████████▎| 368 kB 5.1 MB/s eta 0:00:01\r\u001b[K     |████████████████████████████████| 376 kB 5.1 MB/s \n",
            "\u001b[?25h"
          ]
        }
      ]
    },
    {
      "cell_type": "code",
      "metadata": {
        "id": "ZdmzqutgO94L"
      },
      "source": [
        "from fastai.vision.all import *\n",
        "import timm"
      ],
      "execution_count": null,
      "outputs": []
    },
    {
      "cell_type": "code",
      "metadata": {
        "colab": {
          "base_uri": "https://localhost:8080/",
          "height": 37
        },
        "id": "0bAU_DQrPFY4",
        "outputId": "6ffce70d-dc24-4f38-86db-187e73a0439c"
      },
      "source": [
        "set_seed(99, True)\n",
        "path = untar_data(URLs.PETS)/'images'\n",
        "dls = ImageDataLoaders.from_name_func(\n",
        "    path, get_image_files(path), valid_pct=0.2,\n",
        "    label_func=lambda x: x[0].isupper(), item_tfms=Resize(224))"
      ],
      "execution_count": null,
      "outputs": [
        {
          "output_type": "display_data",
          "data": {
            "text/html": [
              "\n",
              "    <div>\n",
              "        <style>\n",
              "            /* Turns off some styling */\n",
              "            progress {\n",
              "                /* gets rid of default border in Firefox and Opera. */\n",
              "                border: none;\n",
              "                /* Needs to be in here for Safari polyfill so background images work as expected. */\n",
              "                background-size: auto;\n",
              "            }\n",
              "            .progress-bar-interrupted, .progress-bar-interrupted::-webkit-progress-bar {\n",
              "                background: #F44336;\n",
              "            }\n",
              "        </style>\n",
              "      <progress value='811712512' class='' max='811706944' style='width:300px; height:20px; vertical-align: middle;'></progress>\n",
              "      100.00% [811712512/811706944 00:13<00:00]\n",
              "    </div>\n",
              "    "
            ],
            "text/plain": [
              "<IPython.core.display.HTML object>"
            ]
          },
          "metadata": {}
        }
      ]
    },
    {
      "cell_type": "code",
      "metadata": {
        "id": "7mJcCQ8XR4vs"
      },
      "source": [
        "def uname_model(m):\n",
        "    l = []\n",
        "    children = list(m.children())\n",
        "    for c in children:\n",
        "        if list(c.children()):\n",
        "            l.append(uname_model(c))\n",
        "        else:\n",
        "            l.append(c)\n",
        "    return nn.Sequential(*l)\n",
        "\n",
        "def flatten_model(m):\n",
        "    l = []\n",
        "    children = list(m.children())\n",
        "    for c in children:\n",
        "        if list(c.children()):\n",
        "            l.extend(flatten_model(c))\n",
        "        else:\n",
        "            l.append(c)\n",
        "    return nn.Sequential(*l)"
      ],
      "execution_count": null,
      "outputs": []
    },
    {
      "cell_type": "code",
      "metadata": {
        "id": "wF4o5yLWvWtq"
      },
      "source": [
        "class print_frozen(Callback):\n",
        "    def before_fit(self):\n",
        "        total = sum([np.prod(p.size()) for p in self.model.parameters()])\n",
        "        frozen = filter(lambda p: not p.requires_grad, self.model.parameters())\n",
        "        frozen = sum([np.prod(p.size()) for p in frozen])\n",
        "        print(f'Model training {total - frozen} parameters out of {total} ({(100*(total - frozen)/total):.2f}%)')"
      ],
      "execution_count": 148,
      "outputs": []
    },
    {
      "cell_type": "code",
      "metadata": {
        "id": "VnCOj1DUwDtP"
      },
      "source": [
        "model = resnet18()\n",
        "model"
      ],
      "execution_count": null,
      "outputs": []
    },
    {
      "cell_type": "code",
      "metadata": {
        "id": "7T_EZDrzZ1IE",
        "colab": {
          "base_uri": "https://localhost:8080/"
        },
        "outputId": "795bca74-01a7-49ff-87b7-36bf54b152e0"
      },
      "source": [
        "def my_split(m): return L(*m).map(params)\n",
        "learn = Learner(dls, model, splitter = Pipeline([uname_model, my_split]), lr = slice(1, 10), cbs = print_frozen)\n",
        "learn.freeze()\n",
        "learn.print_frozen('before_fit')\n",
        "L([f\"{x['lr']:.2f}\" for x in learn.opt.hypers])"
      ],
      "execution_count": 181,
      "outputs": [
        {
          "output_type": "stream",
          "name": "stdout",
          "text": [
            "Model training 522600 parameters out of 11689512 (4.47%)\n"
          ]
        },
        {
          "output_type": "execute_result",
          "data": {
            "text/plain": [
              "(#10) ['1.00','1.29','1.67','2.15','2.78','3.59','4.64','5.99','7.74','10.00']"
            ]
          },
          "metadata": {},
          "execution_count": 181
        }
      ]
    },
    {
      "cell_type": "code",
      "metadata": {
        "colab": {
          "base_uri": "https://localhost:8080/"
        },
        "id": "-jvkm785uzBQ",
        "outputId": "00a07758-3c4a-47b7-e9c6-4c3679c9b162"
      },
      "source": [
        "def my_split(m): return L(*m[:40], m[40:]).map(params)\n",
        "learn = Learner(dls, model, splitter = Pipeline([flatten_model, my_split]), lr = slice(1, 10), cbs = print_frozen)\n",
        "learn.freeze()\n",
        "learn.print_frozen('before_fit')\n",
        "L([f\"{x['lr']:.2f}\" for x in learn.opt.hypers])"
      ],
      "execution_count": 187,
      "outputs": [
        {
          "output_type": "stream",
          "name": "stdout",
          "text": [
            "Model training 7731560 parameters out of 11689512 (66.14%)\n"
          ]
        },
        {
          "output_type": "execute_result",
          "data": {
            "text/plain": [
              "(#41) ['1.00','1.06','1.12','1.19','1.26','1.33','1.41','1.50','1.58','1.68'...]"
            ]
          },
          "metadata": {},
          "execution_count": 187
        }
      ]
    },
    {
      "cell_type": "code",
      "metadata": {
        "colab": {
          "base_uri": "https://localhost:8080/"
        },
        "id": "Adhakjsc0ZlW",
        "outputId": "2ad2f24b-c3e0-4c1f-b6b5-5a69f14917b9"
      },
      "source": [
        "def my_split(m): return L(m[:6], m[6:-3], m[-3:]).map(params)\n",
        "learn = Learner(dls, model, splitter = Pipeline([uname_model, my_split]), lr = slice(1, 10), cbs = print_frozen)\n",
        "learn.freeze()\n",
        "learn.print_frozen('before_fit')\n",
        "L([f\"{x['lr']:.2f}\" for x in learn.opt.hypers])"
      ],
      "execution_count": 189,
      "outputs": [
        {
          "output_type": "stream",
          "name": "stdout",
          "text": [
            "Model training 8911208 parameters out of 11689512 (76.23%)\n"
          ]
        },
        {
          "output_type": "execute_result",
          "data": {
            "text/plain": [
              "(#3) ['1.00','3.16','10.00']"
            ]
          },
          "metadata": {},
          "execution_count": 189
        }
      ]
    },
    {
      "cell_type": "code",
      "metadata": {
        "colab": {
          "base_uri": "https://localhost:8080/"
        },
        "id": "h1FZpMVE0rMt",
        "outputId": "0543ed8c-66de-45e1-f3eb-8275a88426c4"
      },
      "source": [
        "def my_split(m): return L(m[:6], *flatten_model(m[6:-3]), m[-3:]).map(params)\n",
        "learn = Learner(dls, model, splitter = Pipeline([uname_model, my_split]), lr = slice(1, 10), cbs = print_frozen)\n",
        "learn.freeze()\n",
        "learn.print_frozen('before_fit')\n",
        "L([f\"{x['lr']:.2f}\" for x in learn.opt.hypers])"
      ],
      "execution_count": 191,
      "outputs": [
        {
          "output_type": "stream",
          "name": "stdout",
          "text": [
            "Model training 8911208 parameters out of 11689512 (76.23%)\n"
          ]
        },
        {
          "output_type": "execute_result",
          "data": {
            "text/plain": [
              "(#14) ['1.00','1.19','1.43','1.70','2.03','2.42','2.89','3.46','4.12','4.92'...]"
            ]
          },
          "metadata": {},
          "execution_count": 191
        }
      ]
    },
    {
      "cell_type": "code",
      "metadata": {
        "id": "dmId3-_O5Ai8"
      },
      "source": [
        "class literal_split():\n",
        "    def __init__(self, split_string, unwrapper = uname_model):\n",
        "        self.s = split_string\n",
        "        self.unwrapper = unwrapper\n",
        "\n",
        "    def __call__(self, m):\n",
        "        m = self.unwrapper(m)\n",
        "        return eval('L(' + self.s + ')').map(params)"
      ],
      "execution_count": 193,
      "outputs": []
    },
    {
      "cell_type": "code",
      "metadata": {
        "colab": {
          "base_uri": "https://localhost:8080/"
        },
        "id": "dQedXZwI5DT3",
        "outputId": "a371be15-a767-4a8e-d76a-1a9ab149cda7"
      },
      "source": [
        "splitter = literal_split('m[:6], *flatten_model(m[6:-3]), m[-3:]')\n",
        "learn = Learner(dls, model, splitter = splitter, lr = slice(1, 10), cbs = print_frozen)\n",
        "learn.freeze()\n",
        "learn.print_frozen('before_fit')\n",
        "L([f\"{x['lr']:.2f}\" for x in learn.opt.hypers])"
      ],
      "execution_count": 204,
      "outputs": [
        {
          "output_type": "stream",
          "name": "stdout",
          "text": [
            "Model training 8911208 parameters out of 11689512 (76.23%)\n"
          ]
        },
        {
          "output_type": "execute_result",
          "data": {
            "text/plain": [
              "(#14) ['1.00','1.19','1.43','1.70','2.03','2.42','2.89','3.46','4.12','4.92'...]"
            ]
          },
          "metadata": {},
          "execution_count": 204
        }
      ]
    }
  ]
}